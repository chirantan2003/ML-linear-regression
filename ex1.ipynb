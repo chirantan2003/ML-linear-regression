{
  "nbformat": 4,
  "nbformat_minor": 0,
  "metadata": {
    "colab": {
      "name": "ex1.ipynb",
      "provenance": [],
      "collapsed_sections": [],
      "authorship_tag": "ABX9TyMsWW667RBVQ0HdOs4sPhrh",
      "include_colab_link": true
    },
    "kernelspec": {
      "name": "python3",
      "display_name": "Python 3"
    },
    "language_info": {
      "name": "python"
    }
  },
  "cells": [
    {
      "cell_type": "markdown",
      "metadata": {
        "id": "view-in-github",
        "colab_type": "text"
      },
      "source": [
        "<a href=\"https://colab.research.google.com/github/chirantan2003/first-ml-project/blob/main/ex1.ipynb\" target=\"_parent\"><img src=\"https://colab.research.google.com/assets/colab-badge.svg\" alt=\"Open In Colab\"/></a>"
      ]
    },
    {
      "cell_type": "code",
      "execution_count": 43,
      "metadata": {
        "id": "6xKazcky27hp"
      },
      "outputs": [],
      "source": [
        "import numpy as np\n",
        "import pandas as pd\n",
        "from matplotlib import pyplot as plt\n",
        "import numpy.matlib"
      ]
    },
    {
      "cell_type": "code",
      "source": [
        "def warmUpExercise():\n",
        "  a=np.identity(5)\n",
        "  print(a)\n",
        "\n"
      ],
      "metadata": {
        "id": "2ejxduAH3ODt"
      },
      "execution_count": 2,
      "outputs": []
    },
    {
      "cell_type": "code",
      "source": [
        "print(\"THIS IS WARMUP EXERCISE\")\n",
        "warmUpExercise()"
      ],
      "metadata": {
        "colab": {
          "base_uri": "https://localhost:8080/"
        },
        "id": "Pb9vkq-j3jdz",
        "outputId": "e67da9e0-d542-45cf-e04d-d522f6b29279"
      },
      "execution_count": 3,
      "outputs": [
        {
          "output_type": "stream",
          "name": "stdout",
          "text": [
            "THIS IS WARMUP EXERCISE\n",
            "[[1. 0. 0. 0. 0.]\n",
            " [0. 1. 0. 0. 0.]\n",
            " [0. 0. 1. 0. 0.]\n",
            " [0. 0. 0. 1. 0.]\n",
            " [0. 0. 0. 0. 1.]]\n"
          ]
        }
      ]
    },
    {
      "cell_type": "markdown",
      "source": [
        "Part 2 Begins:"
      ],
      "metadata": {
        "id": "0UTKigN_7Brv"
      }
    },
    {
      "cell_type": "code",
      "source": [
        "print(\"Plotting Data\")\n",
        "df = pd.read_table(\"/content/ex1data1.txt\", header = None ,delimiter=\",\", names=[\"X\", \"y\"])\n",
        "print(df)\n"
      ],
      "metadata": {
        "colab": {
          "base_uri": "https://localhost:8080/"
        },
        "id": "NJcrSmwK4l1f",
        "outputId": "58b970c2-d915-4dd9-939c-ac4a7faba1d0"
      },
      "execution_count": 5,
      "outputs": [
        {
          "output_type": "stream",
          "name": "stdout",
          "text": [
            "Plotting Data\n",
            "          X         y\n",
            "0    6.1101  17.59200\n",
            "1    5.5277   9.13020\n",
            "2    8.5186  13.66200\n",
            "3    7.0032  11.85400\n",
            "4    5.8598   6.82330\n",
            "..      ...       ...\n",
            "92   5.8707   7.20290\n",
            "93   5.3054   1.98690\n",
            "94   8.2934   0.14454\n",
            "95  13.3940   9.05510\n",
            "96   5.4369   0.61705\n",
            "\n",
            "[97 rows x 2 columns]\n"
          ]
        }
      ]
    },
    {
      "cell_type": "code",
      "source": [
        "def plotData(x,y):\n",
        "  df.plot.scatter(x=\"X\" , y=\"y\", s = 50, marker=\"x\", color=\"red\")\n",
        "  plt.xlabel(\"population\")\n",
        "  plt.ylabel(\"profit\")\n",
        "\n",
        "plotData(\"X\",\"y\")"
      ],
      "metadata": {
        "colab": {
          "base_uri": "https://localhost:8080/",
          "height": 280
        },
        "id": "Vn6VFAtwCH9e",
        "outputId": "7e264f29-a6de-4e36-a9c4-71c9953e22e9"
      },
      "execution_count": 6,
      "outputs": [
        {
          "output_type": "display_data",
          "data": {
            "text/plain": [
              "<Figure size 432x288 with 1 Axes>"
            ],
            "image/png": "[encoded data removed]"
          },
          "metadata": {
            "needs_background": "light"
          }
        }
      ]
    },
    {
      "cell_type": "markdown",
      "source": [
        "Part 3 Begins"
      ],
      "metadata": {
        "id": "tmA-tODsSvjI"
      }
    },
    {
      "cell_type": "code",
      "source": [
        "A = np.matrix(df)\n",
        "X = np.r_[ [np.zeros(2)],A ]\n",
        "X = np.c_[ np.ones(98), X ]\n",
        "print(X)\n",
        "y = X[:,2]\n",
        "theta = np.matlib.zeros((2,1))\n",
        "\n",
        "iterations = 1500\n",
        "alpha = 0.01\n",
        "\n",
        "\n"
      ],
      "metadata": {
        "colab": {
          "base_uri": "https://localhost:8080/"
        },
        "id": "zs0LjobKPSYR",
        "outputId": "4ca285c9-f335-4328-cdb0-6f00adc3edbf"
      },
      "execution_count": 49,
      "outputs": [
        {
          "output_type": "stream",
          "name": "stdout",
          "text": [
            "[[ 1.       0.       0.     ]\n",
            " [ 1.       6.1101  17.592  ]\n",
            " [ 1.       5.5277   9.1302 ]\n",
            " [ 1.       8.5186  13.662  ]\n",
            " [ 1.       7.0032  11.854  ]\n",
            " [ 1.       5.8598   6.8233 ]\n",
            " [ 1.       8.3829  11.886  ]\n",
            " [ 1.       7.4764   4.3483 ]\n",
            " [ 1.       8.5781  12.     ]\n",
            " [ 1.       6.4862   6.5987 ]\n",
            " [ 1.       5.0546   3.8166 ]\n",
            " [ 1.       5.7107   3.2522 ]\n",
            " [ 1.      14.164   15.505  ]\n",
            " [ 1.       5.734    3.1551 ]\n",
            " [ 1.       8.4084   7.2258 ]\n",
            " [ 1.       5.6407   0.71618]\n",
            " [ 1.       5.3794   3.5129 ]\n",
            " [ 1.       6.3654   5.3048 ]\n",
            " [ 1.       5.1301   0.56077]\n",
            " [ 1.       6.4296   3.6518 ]\n",
            " [ 1.       7.0708   5.3893 ]\n",
            " [ 1.       6.1891   3.1386 ]\n",
            " [ 1.      20.27    21.767  ]\n",
            " [ 1.       5.4901   4.263  ]\n",
            " [ 1.       6.3261   5.1875 ]\n",
            " [ 1.       5.5649   3.0825 ]\n",
            " [ 1.      18.945   22.638  ]\n",
            " [ 1.      12.828   13.501  ]\n",
            " [ 1.      10.957    7.0467 ]\n",
            " [ 1.      13.176   14.692  ]\n",
            " [ 1.      22.203   24.147  ]\n",
            " [ 1.       5.2524  -1.22   ]\n",
            " [ 1.       6.5894   5.9966 ]\n",
            " [ 1.       9.2482  12.134  ]\n",
            " [ 1.       5.8918   1.8495 ]\n",
            " [ 1.       8.2111   6.5426 ]\n",
            " [ 1.       7.9334   4.5623 ]\n",
            " [ 1.       8.0959   4.1164 ]\n",
            " [ 1.       5.6063   3.3928 ]\n",
            " [ 1.      12.836   10.117  ]\n",
            " [ 1.       6.3534   5.4974 ]\n",
            " [ 1.       5.4069   0.55657]\n",
            " [ 1.       6.8825   3.9115 ]\n",
            " [ 1.      11.708    5.3854 ]\n",
            " [ 1.       5.7737   2.4406 ]\n",
            " [ 1.       7.8247   6.7318 ]\n",
            " [ 1.       7.0931   1.0463 ]\n",
            " [ 1.       5.0702   5.1337 ]\n",
            " [ 1.       5.8014   1.844  ]\n",
            " [ 1.      11.7      8.0043 ]\n",
            " [ 1.       5.5416   1.0179 ]\n",
            " [ 1.       7.5402   6.7504 ]\n",
            " [ 1.       5.3077   1.8396 ]\n",
            " [ 1.       7.4239   4.2885 ]\n",
            " [ 1.       7.6031   4.9981 ]\n",
            " [ 1.       6.3328   1.4233 ]\n",
            " [ 1.       6.3589  -1.4211 ]\n",
            " [ 1.       6.2742   2.4756 ]\n",
            " [ 1.       5.6397   4.6042 ]\n",
            " [ 1.       9.3102   3.9624 ]\n",
            " [ 1.       9.4536   5.4141 ]\n",
            " [ 1.       8.8254   5.1694 ]\n",
            " [ 1.       5.1793  -0.74279]\n",
            " [ 1.      21.279   17.929  ]\n",
            " [ 1.      14.908   12.054  ]\n",
            " [ 1.      18.959   17.054  ]\n",
            " [ 1.       7.2182   4.8852 ]\n",
            " [ 1.       8.2951   5.7442 ]\n",
            " [ 1.      10.236    7.7754 ]\n",
            " [ 1.       5.4994   1.0173 ]\n",
            " [ 1.      20.341   20.992  ]\n",
            " [ 1.      10.136    6.6799 ]\n",
            " [ 1.       7.3345   4.0259 ]\n",
            " [ 1.       6.0062   1.2784 ]\n",
            " [ 1.       7.2259   3.3411 ]\n",
            " [ 1.       5.0269  -2.6807 ]\n",
            " [ 1.       6.5479   0.29678]\n",
            " [ 1.       7.5386   3.8845 ]\n",
            " [ 1.       5.0365   5.7014 ]\n",
            " [ 1.      10.274    6.7526 ]\n",
            " [ 1.       5.1077   2.0576 ]\n",
            " [ 1.       5.7292   0.47953]\n",
            " [ 1.       5.1884   0.20421]\n",
            " [ 1.       6.3557   0.67861]\n",
            " [ 1.       9.7687   7.5435 ]\n",
            " [ 1.       6.5159   5.3436 ]\n",
            " [ 1.       8.5172   4.2415 ]\n",
            " [ 1.       9.1802   6.7981 ]\n",
            " [ 1.       6.002    0.92695]\n",
            " [ 1.       5.5204   0.152  ]\n",
            " [ 1.       5.0594   2.8214 ]\n",
            " [ 1.       5.7077   1.8451 ]\n",
            " [ 1.       7.6366   4.2959 ]\n",
            " [ 1.       5.8707   7.2029 ]\n",
            " [ 1.       5.3054   1.9869 ]\n",
            " [ 1.       8.2934   0.14454]\n",
            " [ 1.      13.394    9.0551 ]\n",
            " [ 1.       5.4369   0.61705]]\n"
          ]
        }
      ]
    },
    {
      "cell_type": "code",
      "source": [
        "def computeCost(X, y, theta):\n",
        "  J = 0\n",
        "  initialTheta=theta\n",
        "  # print(theta, \"this is theta\")\n",
        "  theta = np.matlib.repmat(theta, 49, 1)\n",
        "  # print(theta)\n",
        "  thetaTranspose = np.transpose(theta)\n",
        "  # print(thetaTranspose, \"this is theta\")\n",
        "  # print(X, \"this is x\")\n",
        "  # print(y, \"this is  y\")\n",
        "  multip = np.matmul(thetaTranspose, X)\n",
        "  # print(multip, \"this is multip\")\n",
        "  asd = sum(np.square((multip - y)))/(97*2)\n",
        "  computedCost = asd.item(1)\n",
        "  return computedCost\n",
        "  \n"
      ],
      "metadata": {
        "id": "7wpbNnmiS7Tb"
      },
      "execution_count": 82,
      "outputs": []
    },
    {
      "cell_type": "code",
      "source": [
        "J = computeCost(X,y,theta)\n",
        "print(\"With theta = [0 ; 0] computed cost = \" '%.2f'%J)\n",
        "print(\"Expected cost value approx 32.07\")"
      ],
      "metadata": {
        "colab": {
          "base_uri": "https://localhost:8080/"
        },
        "id": "6r_sEpu8EmGZ",
        "outputId": "28d6baa3-9f4c-40f2-b108-7ad31f9422e6"
      },
      "execution_count": 83,
      "outputs": [
        {
          "output_type": "stream",
          "name": "stdout",
          "text": [
            "With theta = [0 ; 0] computed cost = 32.07\n",
            "Expected cost value approx 32.07\n"
          ]
        }
      ]
    },
    {
      "cell_type": "code",
      "source": [
        "J = computeCost(X,y, np.matrix('0.1 ; 0.1'))\n",
        "print(\"With theta = [-1 ; 2] computed cost = \" '%.2f'%J)\n",
        "print(\"Expected cost value approx 54.24\")"
      ],
      "metadata": {
        "colab": {
          "base_uri": "https://localhost:8080/"
        },
        "id": "FnTR9zmgFXcG",
        "outputId": "891ff9c6-f50b-4c4d-b630-54e7d8e96c2b"
      },
      "execution_count": 84,
      "outputs": [
        {
          "output_type": "stream",
          "name": "stdout",
          "text": [
            "With theta = [-1 ; 2] computed cost = 2734.56\n",
            "Expected cost value approx 54.24\n"
          ]
        }
      ]
    }
  ]
}